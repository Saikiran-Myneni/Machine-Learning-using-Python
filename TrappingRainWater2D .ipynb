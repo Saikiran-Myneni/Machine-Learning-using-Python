{
 "cells": [
  {
   "cell_type": "code",
   "execution_count": 33,
   "metadata": {
    "collapsed": true
   },
   "outputs": [],
   "source": [
    "class Solution():\n",
    "    def WaterStoredInPlatform(self, inputMatrix):\n",
    "        if not inputMatrix or not inputMatrix[0]:\n",
    "            return 0\n",
    "        \n",
    "        import heapq    \n",
    "        m, n = len(inputMatrix), len(inputMatrix[0])\n",
    "        heap = []\n",
    "        visited = [[0]*n for _ in range(m)]\n",
    "\n",
    "        # Push all the block on the border into heap\n",
    "        for i in range(m):\n",
    "            for j in range(n):\n",
    "                if i == 0 or j == 0 or i == m-1 or j == n-1:\n",
    "                    heapq.heappush(heap, (inputMatrix[i][j], i, j))\n",
    "                    visited[i][j] = 1\n",
    "        \n",
    "        result = 0\n",
    "        while heap:\n",
    "            height, i, j = heapq.heappop(heap)    \n",
    "            for x, y in ((i+1, j), (i-1, j), (i, j+1), (i, j-1)):\n",
    "                if 0 <= x < m and 0 <= y < n and not visited[x][y]:\n",
    "                    result += max(0, height-inputMatrix[x][y])\n",
    "                    heapq.heappush(heap, (max(inputMatrix[x][y], height), x, y))\n",
    "                    visited[x][y] = 1\n",
    "        return result\n",
    "solution = Solution()"
   ]
  },
  {
   "cell_type": "code",
   "execution_count": 34,
   "metadata": {},
   "outputs": [
    {
     "name": "stdout",
     "output_type": "stream",
     "text": [
      "0\n"
     ]
    }
   ],
   "source": [
    "#TestCase-1\n",
    "inputMatrix1 = [(2,2,2),(2,2,2),(2,2,2)]\n",
    "print(solution.WaterStoredInPlatform(inputMatrix1))"
   ]
  },
  {
   "cell_type": "code",
   "execution_count": 35,
   "metadata": {
    "scrolled": true
   },
   "outputs": [
    {
     "name": "stdout",
     "output_type": "stream",
     "text": [
      "1\n"
     ]
    }
   ],
   "source": [
    "#TestCase-2\n",
    "inputMatrix2=[(2,2,2,2),(2,1,2,1),(2,2,2,1)]\n",
    "print(solution.WaterStoredInPlatform(inputMatrix2))"
   ]
  },
  {
   "cell_type": "code",
   "execution_count": 36,
   "metadata": {},
   "outputs": [
    {
     "name": "stdout",
     "output_type": "stream",
     "text": [
      "10\n"
     ]
    }
   ],
   "source": [
    "#TestCase-3\n",
    "inputMatrix3=[(3,3,3,3,3,3),(3,1,2,3,1,3),(3,1,2,3,1,3),(3,3,3,1,3,3)]\n",
    "print(solution.WaterStoredInPlatform(inputMatrix3))"
   ]
  },
  {
   "cell_type": "code",
   "execution_count": 37,
   "metadata": {},
   "outputs": [
    {
     "name": "stdout",
     "output_type": "stream",
     "text": [
      "11\n"
     ]
    }
   ],
   "source": [
    "#TestCase-4\n",
    "inputMatrix4=[(3,3,3,3,5,3),(3,0,2,3,1,3),(3,1,2,3,1,3),(3,3,3,1,3,3)]\n",
    "print(solution.WaterStoredInPlatform(inputMatrix4))"
   ]
  },
  {
   "cell_type": "code",
   "execution_count": 38,
   "metadata": {},
   "outputs": [
    {
     "name": "stdout",
     "output_type": "stream",
     "text": [
      "32\n"
     ]
    }
   ],
   "source": [
    "#TestCase-5\n",
    "inputMatrix5=[(5,5,5,5,5),(9,1,1,1,5),(5,1,5,1,5),(5,1,1,1,5),(5,5,5,5,5)]\n",
    "print(solution.WaterStoredInPlatform(inputMatrix5))"
   ]
  },
  {
   "cell_type": "code",
   "execution_count": 39,
   "metadata": {},
   "outputs": [
    {
     "name": "stdout",
     "output_type": "stream",
     "text": [
      "45\n"
     ]
    }
   ],
   "source": [
    "t = [i for i in range(1,10)]\n",
    "print(sum(t))"
   ]
  },
  {
   "cell_type": "code",
   "execution_count": 42,
   "metadata": {},
   "outputs": [],
   "source": [
    "foo = [1,2,3,4,5]"
   ]
  },
  {
   "cell_type": "code",
   "execution_count": 43,
   "metadata": {},
   "outputs": [
    {
     "ename": "SyntaxError",
     "evalue": "invalid syntax (<ipython-input-43-340153275113>, line 1)",
     "output_type": "error",
     "traceback": [
      "\u001b[1;36m  File \u001b[1;32m\"<ipython-input-43-340153275113>\"\u001b[1;36m, line \u001b[1;32m1\u001b[0m\n\u001b[1;33m    print reduce(lambda x,y: x+y,foo)\u001b[0m\n\u001b[1;37m               ^\u001b[0m\n\u001b[1;31mSyntaxError\u001b[0m\u001b[1;31m:\u001b[0m invalid syntax\n"
     ]
    }
   ],
   "source": [
    "print reduce(lambda x,y: x+y,foo)"
   ]
  },
  {
   "cell_type": "code",
   "execution_count": null,
   "metadata": {
    "collapsed": true
   },
   "outputs": [],
   "source": []
  }
 ],
 "metadata": {
  "kernelspec": {
   "display_name": "Python 3",
   "language": "python",
   "name": "python3"
  },
  "language_info": {
   "codemirror_mode": {
    "name": "ipython",
    "version": 3
   },
   "file_extension": ".py",
   "mimetype": "text/x-python",
   "name": "python",
   "nbconvert_exporter": "python",
   "pygments_lexer": "ipython3",
   "version": "3.6.6"
  }
 },
 "nbformat": 4,
 "nbformat_minor": 2
}
